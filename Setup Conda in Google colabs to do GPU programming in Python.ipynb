{
  "nbformat": 4,
  "nbformat_minor": 0,
  "metadata": {
    "colab": {
      "name": "CondaBook.ipynb",
      "provenance": []
    },
    "kernelspec": {
      "name": "python3",
      "display_name": "Python 3"
    }
  },
  "cells": [
    {
      "cell_type": "markdown",
      "metadata": {
        "id": "J8a2eZXgS07p",
        "colab_type": "text"
      },
      "source": [
        "# Execute all code sections one after another. Make sure the previous one has got success before move onto the next one."
      ]
    },
    {
      "cell_type": "markdown",
      "metadata": {
        "id": "XZP13tl9Td5X",
        "colab_type": "text"
      },
      "source": [
        "**You may skip this section**\n",
        "*  To check which Python the Colab is using\n",
        "*  To check the version of the Python before continue\n",
        "*  To check whether the Python path has been set and needs to be unset before continue if it has been set"
      ]
    },
    {
      "cell_type": "code",
      "metadata": {
        "id": "NRii7KplGPlu",
        "colab_type": "code",
        "colab": {}
      },
      "source": [
        "!which python # should return /usr/local/bin/python"
      ],
      "execution_count": null,
      "outputs": []
    },
    {
      "cell_type": "code",
      "metadata": {
        "id": "Ea2DppBWGhsg",
        "colab_type": "code",
        "colab": {}
      },
      "source": [
        "!python --version"
      ],
      "execution_count": null,
      "outputs": []
    },
    {
      "cell_type": "code",
      "metadata": {
        "id": "G-0ljP6iGnoL",
        "colab_type": "code",
        "colab": {}
      },
      "source": [
        "!echo $PYTHONPATH"
      ],
      "execution_count": null,
      "outputs": []
    },
    {
      "cell_type": "markdown",
      "metadata": {
        "id": "CsIuOzuVT_n2",
        "colab_type": "text"
      },
      "source": [
        "# Now into the action\n",
        "**Unset the path using following command**"
      ]
    },
    {
      "cell_type": "code",
      "metadata": {
        "id": "IpkAaHZTGwtV",
        "colab_type": "code",
        "colab": {}
      },
      "source": [
        "%env PYTHONPATH="
      ],
      "execution_count": null,
      "outputs": []
    },
    {
      "cell_type": "markdown",
      "metadata": {
        "id": "_9LMh_4yUX5I",
        "colab_type": "text"
      },
      "source": [
        "**Install Miniconda from Anaconda cloud**"
      ]
    },
    {
      "cell_type": "code",
      "metadata": {
        "id": "1Y8SRNgCG4gQ",
        "colab_type": "code",
        "colab": {}
      },
      "source": [
        "%%bash\n",
        "MINICONDA_INSTALLER_SCRIPT=Miniconda3-4.5.4-Linux-x86_64.sh\n",
        "MINICONDA_PREFIX=/usr/local\n",
        "wget https://repo.anaconda.com/miniconda/$MINICONDA_INSTALLER_SCRIPT\n",
        "chmod +x $MINICONDA_INSTALLER_SCRIPT\n",
        "./$MINICONDA_INSTALLER_SCRIPT -b -f -p $MINICONDA_PREFIX"
      ],
      "execution_count": null,
      "outputs": []
    },
    {
      "cell_type": "markdown",
      "metadata": {
        "id": "UnMbpDXAUoKM",
        "colab_type": "text"
      },
      "source": [
        "**You may skip this section**\n",
        "*  After it has been installed succesfully, it should be able to check its path and the version.\n",
        "*  It will have installed a new version of Python and you may check its path and version if you want."
      ]
    },
    {
      "cell_type": "code",
      "metadata": {
        "id": "bFl0asLuIfKU",
        "colab_type": "code",
        "colab": {}
      },
      "source": [
        "!which conda # should return /usr/local/bin/conda"
      ],
      "execution_count": null,
      "outputs": []
    },
    {
      "cell_type": "code",
      "metadata": {
        "id": "nu5FYUJVIisF",
        "colab_type": "code",
        "colab": {}
      },
      "source": [
        "!conda --version # should return 4.5.4"
      ],
      "execution_count": null,
      "outputs": []
    },
    {
      "cell_type": "code",
      "metadata": {
        "id": "rWfjFbhKImz0",
        "colab_type": "code",
        "colab": {}
      },
      "source": [
        "!which python # still returns /usr/local/bin/python"
      ],
      "execution_count": null,
      "outputs": []
    },
    {
      "cell_type": "code",
      "metadata": {
        "id": "jAOtS41-IsR0",
        "colab_type": "code",
        "colab": {}
      },
      "source": [
        "!python --version # now returns Python 3.6.5 :: Anaconda, Inc."
      ],
      "execution_count": null,
      "outputs": []
    },
    {
      "cell_type": "markdown",
      "metadata": {
        "id": "Xm4LmL93VjX1",
        "colab_type": "text"
      },
      "source": [
        "# If you haven't installed the latest version of Conda and python, you may want to update it.\n",
        "**Following code would do that**"
      ]
    },
    {
      "cell_type": "code",
      "metadata": {
        "id": "nJwfqJIZIxDs",
        "colab_type": "code",
        "colab": {}
      },
      "source": [
        "%%bash\n",
        "conda install --channel defaults conda python=3.6 --yes   #update 3.6 with the version shown above if differs\n",
        "conda update --channel defaults --all --yes"
      ],
      "execution_count": null,
      "outputs": []
    },
    {
      "cell_type": "markdown",
      "metadata": {
        "id": "p6evnuMmXSGd",
        "colab_type": "text"
      },
      "source": [
        "**You may skip this section**\n",
        "*  You may check new Conda and Python version.\n",
        "*  current path of the system\n",
        "*  and the Python distribution packages installed along the conda"
      ]
    },
    {
      "cell_type": "code",
      "metadata": {
        "id": "Hf1bwYcDJCMO",
        "colab_type": "code",
        "colab": {}
      },
      "source": [
        "!conda --version # now returns latest version (4.8.3)"
      ],
      "execution_count": null,
      "outputs": []
    },
    {
      "cell_type": "code",
      "metadata": {
        "id": "BgMPSJgZJKFW",
        "colab_type": "code",
        "colab": {}
      },
      "source": [
        "!python --version # now returns Python 3.6.10 :: Anaconda, Inc."
      ],
      "execution_count": null,
      "outputs": []
    },
    {
      "cell_type": "code",
      "metadata": {
        "id": "1_YfelB4JYFO",
        "colab_type": "code",
        "colab": {}
      },
      "source": [
        "import sys\n",
        "sys.path"
      ],
      "execution_count": null,
      "outputs": []
    },
    {
      "cell_type": "code",
      "metadata": {
        "id": "FG7oe0eVJtkE",
        "colab_type": "code",
        "colab": {}
      },
      "source": [
        "!ls /usr/local/lib/python3.6/dist-packages"
      ],
      "execution_count": null,
      "outputs": []
    },
    {
      "cell_type": "markdown",
      "metadata": {
        "id": "r4aUXJ_HYmB1",
        "colab_type": "text"
      },
      "source": [
        "# Update the path of the system with new python site-packages"
      ]
    },
    {
      "cell_type": "code",
      "metadata": {
        "id": "8OQv5Cw6JzyW",
        "colab_type": "code",
        "colab": {}
      },
      "source": [
        "import sys\n",
        "_ = (sys.path\n",
        "        .append(\"/usr/local/lib/python3.6/site-packages\"))"
      ],
      "execution_count": null,
      "outputs": []
    },
    {
      "cell_type": "markdown",
      "metadata": {
        "id": "IX-rPaIZY2aw",
        "colab_type": "text"
      },
      "source": [
        "**It is time to install feature tools of the conda condo condo package and tha final step.**"
      ]
    },
    {
      "cell_type": "code",
      "metadata": {
        "id": "lxv4ZNKrJ8-j",
        "colab_type": "code",
        "colab": {}
      },
      "source": [
        "!conda install --channel conda-forge featuretools --yes"
      ],
      "execution_count": null,
      "outputs": []
    }
  ]
}